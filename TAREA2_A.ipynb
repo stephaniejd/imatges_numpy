{
 "cells": [
  {
   "cell_type": "markdown",
   "metadata": {},
   "source": [
    "# TAREA 2-A: Estructura de una matriz"
   ]
  },
  {
   "cell_type": "markdown",
   "metadata": {},
   "source": [
    "___Nivel 1___\n",
    "\n",
    "___EJERCICIO 1___"
   ]
  },
  {
   "cell_type": "code",
   "execution_count": 18,
   "metadata": {},
   "outputs": [
    {
     "name": "stdout",
     "output_type": "stream",
     "text": [
      "[18 29 13 28 61 99  1 83]\n",
      "el tipo de dato de la array es: int32\n",
      "la dimensión de array es: 1\n"
     ]
    }
   ],
   "source": [
    "#importación de librerias\n",
    "\n",
    "import numpy as np\n",
    "from numpy import random\n",
    "\n",
    "# creación de array de una dimensión\n",
    "\n",
    "arr = np.random.randint(100, size=(8))\n",
    "\n",
    "print(arr)\n",
    "print('el tipo de dato de la array es:', arr.dtype)\n",
    "print('la dimensión de array es:', arr.ndim)\n"
   ]
  },
  {
   "cell_type": "markdown",
   "metadata": {},
   "source": [
    "___EJERCICIO 2___"
   ]
  },
  {
   "cell_type": "code",
   "execution_count": 37,
   "metadata": {},
   "outputs": [
    {
     "name": "stdout",
     "output_type": "stream",
     "text": [
      "La media es: 41.5\n",
      "La mediana es: 28.5\n",
      "la resta de la mediana y la media sería 13.0\n"
     ]
    }
   ],
   "source": [
    "#calcular la media y restar la mediana de cada valor.\n",
    "\n",
    "print('La media es:', arr.mean())\n",
    "\n",
    "print('La mediana es:', np.median(arr))\n",
    "\n",
    "print('la resta de la mediana y la media sería', arr.mean() - np.median(arr))\n"
   ]
  },
  {
   "cell_type": "markdown",
   "metadata": {},
   "source": [
    "___EJERCICIO 3___"
   ]
  },
  {
   "cell_type": "code",
   "execution_count": 51,
   "metadata": {},
   "outputs": [
    {
     "name": "stdout",
     "output_type": "stream",
     "text": [
      "[[14 39 88  1  4]\n",
      " [29  2 97 88  8]\n",
      " [56 73 84 40  8]\n",
      " [24 68 66  4  5]\n",
      " [19 99 82 73 42]]\n",
      "Dimensión de la matriz: 2\n",
      "El valor máximo de la matriz 2D es: 99\n",
      "Los valores máximos de cada eje de la matriz 2D es: [56 99 97 88 42]\n"
     ]
    }
   ],
   "source": [
    "#creación de matriz 2D\n",
    "x = random.randint(100, size=(5, 5))\n",
    "\n",
    "print(x)\n",
    "\n",
    "print('Dimensión de la matriz:',x.ndim)\n",
    "print('El valor máximo de la matriz 2D es:', x.max())\n",
    "print('Los valores máximos de cada eje de la matriz 2D es:', x.max(axis=0))\n"
   ]
  },
  {
   "cell_type": "code",
   "execution_count": null,
   "metadata": {},
   "outputs": [],
   "source": []
  }
 ],
 "metadata": {
  "kernelspec": {
   "display_name": "Python 3",
   "language": "python",
   "name": "python3"
  },
  "language_info": {
   "codemirror_mode": {
    "name": "ipython",
    "version": 3
   },
   "file_extension": ".py",
   "mimetype": "text/x-python",
   "name": "python",
   "nbconvert_exporter": "python",
   "pygments_lexer": "ipython3",
   "version": "3.8.5"
  }
 },
 "nbformat": 4,
 "nbformat_minor": 4
}
